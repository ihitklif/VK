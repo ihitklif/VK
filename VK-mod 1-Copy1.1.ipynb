{
 "cells": [
  {
   "cell_type": "code",
   "execution_count": null,
   "metadata": {},
   "outputs": [],
   "source": [
    "from requests import get\n",
    "from datetime import datetime\n",
    "import time"
   ]
  },
  {
   "cell_type": "markdown",
   "metadata": {},
   "source": [
    "Get new token\n",
    "https://oauth.vk.com/authorize?client_id=6738602&display=page&redirect_uri=https://oauth.vk.com/blank.html&scope=friends&response_type=token&v=5.52"
   ]
  },
  {
   "cell_type": "code",
   "execution_count": null,
   "metadata": {},
   "outputs": [],
   "source": [
    "token = '...'"
   ]
  },
  {
   "cell_type": "code",
   "execution_count": null,
   "metadata": {},
   "outputs": [],
   "source": [
    "group_num = '...'\n",
    "gender = ... #1 - female, 2 - male\n",
    "offset_default = ... #0\n",
    "today = '2019-08-06 00:00'\n",
    "group_range = ..."
   ]
  },
  {
   "cell_type": "code",
   "execution_count": null,
   "metadata": {},
   "outputs": [],
   "source": [
    "def get_city_title_for_id(id):\n",
    "    if id == 1:\n",
    "        return 'Moscow'\n",
    "    else: return 'Not'"
   ]
  },
  {
   "cell_type": "code",
   "execution_count": null,
   "metadata": {},
   "outputs": [],
   "source": [
    "class Person:\n",
    "    def __init__(self, id, first_name, last_name, can_write_private_message):\n",
    "        self.id = id\n",
    "        self.first_name = first_name\n",
    "        self.last_name = last_name\n",
    "        self.can_write_private_message = can_write_private_message\n",
    "        #self.is_closed = is_closed\n",
    "        \n",
    "        self.photo = ''\n",
    "\n",
    "        self.sex = 0\n",
    "\n",
    "        self.can_send_friend_request = 0\n",
    "\n",
    "        self.friends_count = 0\n",
    "        self.followers_count = 0\n",
    "\n",
    "        self.city_id = 0\n",
    "        self.computed_city_id = 0\n",
    "\n",
    "        self.year = 0\n",
    "        self.computed_year = 0\n",
    "\n",
    "        #self.last_seen = last_seen    \n",
    "        \n",
    "    def printt(self):\n",
    "        print(\"Person: {} {}\".format(self.first_name, self.last_name))\n",
    "        print(\"  sex:  {}\".format(\"male\" if self.sex == 2 else \"female\" if self.sex == 1 else \"??\"))\n",
    "        print('  city: {}'.format(get_city_title_for_id(self.city_id)))\n",
    "        print(\"  year: {}\".format(self.year if self.year != 0 else ''))\n",
    "        print(\"  can_write: {}\".format(\"yes\" if self.can_write_private_message == 1 else 'no'))\n",
    "        print('  friends_count: {}'.format(str(self.friends_count) if self.friends_count != 0 else 'NaN'))\n",
    "        print('  followers_count: {}'.format(str(self.followers_count) if self.followers_count != 0 else ''))\n",
    "        print('  comp_year: {}'.format(str(self.computed_year) if self.computed_year != 0 else ''))\n",
    "        print('  comp_city: {}'.format(get_city_title_for_id(self.computed_city_id)))\n",
    "        print('  photo: {}'.format(self.photo))\n",
    "        print('  city_id:  {}'.format(self.city_id))\n",
    "        print('  id:  {}'.format(str(self.id)))"
   ]
  },
  {
   "cell_type": "code",
   "execution_count": null,
   "metadata": {},
   "outputs": [],
   "source": [
    "class VKAPIError(Exception):\n",
    "    pass\n",
    "class VKAPIErrorTimeLimit(Exception):\n",
    "    pass"
   ]
  },
  {
   "cell_type": "code",
   "execution_count": null,
   "metadata": {},
   "outputs": [],
   "source": [
    "class API:\n",
    "    def __init__(self, token=None, version=None):\n",
    "        self.current_line = ''\n",
    "        self.api_version = version or '5.9'\n",
    "        if token is None:\n",
    "            raise Exception('No token provided')\n",
    "        self.access_token = token\n",
    "\n",
    "    def __call__(self, *keys, **kwargs):\n",
    "        payload = {\n",
    "            'access_token': self.access_token,\n",
    "            'v': self.api_version,\n",
    "        }\n",
    "        for key in kwargs:\n",
    "            payload[key] = kwargs.get(key)\n",
    "\n",
    "        r = get('https://api.vk.com/method/' + self.current_line, params=payload)\n",
    "\n",
    "        self.current_line = ''\n",
    "\n",
    "        if r.status_code != 200:\n",
    "            print('something wrong with the connection')\n",
    "        r = r.json()\n",
    "\n",
    "        if 'response' in r:\n",
    "            return r.get('response')\n",
    "        if 'error' in r:\n",
    "            error = r.get('error')\n",
    "            if error.get('error_code', '') == 6:\n",
    "                raise VKAPIErrorTimeLimit(error.get('error_msg'), error.get('request_params'))\n",
    "            raise VKAPIError(r.get('error'))\n",
    "\n",
    "        raise Exception('undefined behaviour')\n",
    "\n",
    "    def __getattr__(self, key):\n",
    "        if self.current_line == '':\n",
    "            self.current_line = key\n",
    "        else:\n",
    "            self.current_line += '.' + key\n",
    "        return self"
   ]
  },
  {
   "cell_type": "code",
   "execution_count": null,
   "metadata": {},
   "outputs": [],
   "source": [
    "def get_year_from_bdate(bdate):\n",
    "    items = bdate.strip().split('.')\n",
    "    if len(items[-1]) == 4:\n",
    "        return items[-1]\n",
    "    else:\n",
    "        return ''"
   ]
  },
  {
   "cell_type": "code",
   "execution_count": null,
   "metadata": {},
   "outputs": [],
   "source": [
    "def get_person_from_item(item):\n",
    "    first_name = item['first_name']\n",
    "    last_name = item['last_name']\n",
    "    id = item['id']\n",
    "    can_write_private_message = item['can_write_private_message']\n",
    "    #is_closed = item['is_closed']\n",
    "    \n",
    "    person = Person(id, first_name, last_name, can_write_private_message)\n",
    "\n",
    "    person.sex = 0 if 'sex' not in item else item['sex']\n",
    "    person.year = '' if 'bdate' not in item else get_year_from_bdate(item['bdate'])\n",
    "    person.photo = '' if 'photo_max' not in item else item['photo_max']\n",
    "    person.city_id = -1 if 'city' not in item else item['city']['id']\n",
    "    person.last_seen = -1 if 'last_seen' not in item else datetime.utcfromtimestamp(item['last_seen']['time']).strftime('%Y-%m-%d %H:%M')\n",
    "    return person"
   ]
  },
  {
   "cell_type": "code",
   "execution_count": null,
   "metadata": {},
   "outputs": [],
   "source": [
    "def generate_html_people(items, result_file_name):\n",
    "    template_text = open('py_crawler/template.html', 'r').read()\n",
    "    output_file = open(result_file_name, 'w')\n",
    "\n",
    "    tag_start = '$item_start$'\n",
    "    tag_end = '$item_end$'\n",
    "\n",
    "    container_start = template_text.find(tag_start)\n",
    "    container_end = template_text.find(tag_end) + len(tag_end)\n",
    "\n",
    "\n",
    "    output_file.write(template_text[:container_start])\n",
    "\n",
    "    person_template = template_text[container_start + len(tag_start):container_end - len(tag_end)]\n",
    "    for item in items:\n",
    "        tmp = person_template.replace('$link$', item.get('person_link'))\n",
    "        tmp = tmp.replace('$image$', item.get('image_link'))\n",
    "        output_file.write(tmp)\n",
    "\n",
    "    output_file.write(template_text[container_end:])\n",
    "\n",
    "    output_file.close()"
   ]
  },
  {
   "cell_type": "code",
   "execution_count": null,
   "metadata": {},
   "outputs": [],
   "source": [
    "import traceback\n",
    "import time\n",
    "\n",
    "def get_good_item(good_people):\n",
    "    items = []\n",
    "    i = 0\n",
    "    k = 0\n",
    "    for person in good_people:\n",
    "        time.sleep(2)\n",
    "        i = i + 1\n",
    "        try:\n",
    "            # Do something.\n",
    "            t = api.friends.get(user_id=person.id, count = 500)\n",
    "            tt= api.users.get(user_ids = person.id, fields = ['followers_count'])\n",
    "            #print(len(t))\n",
    "            #person.printt()\n",
    "            #if len(t) > 50 and len(t) < 150:\n",
    "            k = k + 1\n",
    "            person.friends_count = t['count']\n",
    "            person.followers_count = tt[0]['followers_count']\n",
    "            items.append(person)\n",
    "            pass\n",
    "        except:\n",
    "            # Continue to next iteration.\n",
    "            #print(error_code)\n",
    "            traceback.print_exc()\n",
    "            continue\n",
    "        if (k%100 == 0 and k != 0):\n",
    "            print('yeeeah', k, i)\n",
    "    return items"
   ]
  },
  {
   "cell_type": "code",
   "execution_count": null,
   "metadata": {},
   "outputs": [],
   "source": [
    "if __name__ == '__main__':\n",
    "    api = API(token = token)\n",
    "    c = 0\n",
    "    from time import time\n",
    "    start_time = time()\n",
    "    for i in range(2):\n",
    "        while True:\n",
    "            try:\n",
    "                print(i, api.users.get(user_ids=['93603025'], \n",
    "                                       fields = ['sex, bdate, city, country, followers_count, can_write_private_message, last_seen']))\n",
    "                c = c + 1\n",
    "                print(c / (time()-start_time))\n",
    "                break\n",
    "            except VKAPIErrorTimeLimit:\n",
    "                pass"
   ]
  },
  {
   "cell_type": "code",
   "execution_count": null,
   "metadata": {},
   "outputs": [],
   "source": [
    "data = api.groups.getMembers(\n",
    "                           group_id = group_num, sort = 'id_desc',\n",
    "                           fields = ['sex, bdate, city, country, photo_max, can_write_private_message, last_seen'], \n",
    "                           count = 1000,\n",
    "                           offset = offset_default\n",
    "                          )"
   ]
  },
  {
   "cell_type": "code",
   "execution_count": null,
   "metadata": {},
   "outputs": [],
   "source": [
    "for i in range(1, group_range):\n",
    "    data2 = api.groups.getMembers(\n",
    "                               group_id = group_num, sort = 'id_desc',\n",
    "                               fields = ['sex, bdate, city, country, photo_max, can_write_private_message, last_seen'], \n",
    "                               count = 1000,\n",
    "                               offset = offset_default + i * 1000\n",
    "                              )\n",
    "    data['items'].extend(data2['items'])"
   ]
  },
  {
   "cell_type": "code",
   "execution_count": null,
   "metadata": {},
   "outputs": [],
   "source": [
    "good_people = [get_person_from_item(x) for x in data['items']]"
   ]
  },
  {
   "cell_type": "code",
   "execution_count": null,
   "metadata": {},
   "outputs": [],
   "source": [
    "len(good_people)"
   ]
  },
  {
   "cell_type": "code",
   "execution_count": null,
   "metadata": {},
   "outputs": [],
   "source": [
    "with open(\"py_crawler/test_arr.txt\", \"r\") as file:\n",
    "    arr = eval(file.readline())"
   ]
  },
  {
   "cell_type": "code",
   "execution_count": null,
   "metadata": {},
   "outputs": [],
   "source": [
    "good_people = [person for person in good_people if person.id not in arr]\n",
    "len(good_people)"
   ]
  },
  {
   "cell_type": "code",
   "execution_count": null,
   "metadata": {},
   "outputs": [],
   "source": [
    "for pers in good_people:\n",
    "    arr.append(pers.id)"
   ]
  },
  {
   "cell_type": "code",
   "execution_count": null,
   "metadata": {},
   "outputs": [],
   "source": [
    "with open(\"py_crawler/test_arr.txt\", \"w\") as file:\n",
    "    file.write(str(arr))"
   ]
  },
  {
   "cell_type": "code",
   "execution_count": null,
   "metadata": {},
   "outputs": [],
   "source": [
    "len(good_people)"
   ]
  },
  {
   "cell_type": "code",
   "execution_count": null,
   "metadata": {},
   "outputs": [],
   "source": [
    "good_people[0].printt()"
   ]
  },
  {
   "cell_type": "code",
   "execution_count": null,
   "metadata": {},
   "outputs": [],
   "source": [
    "len(good_people)"
   ]
  },
  {
   "cell_type": "code",
   "execution_count": null,
   "metadata": {
    "scrolled": true
   },
   "outputs": [],
   "source": [
    "very_good_people = get_good_item(good_people)"
   ]
  },
  {
   "cell_type": "code",
   "execution_count": null,
   "metadata": {},
   "outputs": [],
   "source": [
    "very_good_people[165].printt()"
   ]
  },
  {
   "cell_type": "code",
   "execution_count": null,
   "metadata": {},
   "outputs": [],
   "source": [
    "len(very_good_people)"
   ]
  },
  {
   "cell_type": "code",
   "execution_count": null,
   "metadata": {},
   "outputs": [],
   "source": [
    "items = []\n",
    "#female = 1\n",
    "for person in very_good_people:\n",
    "            if ( \n",
    "                \n",
    "                (person.friends_count >= 500)  and (person.followers_count < 2350)\n",
    "                 \n",
    "               ):\n",
    "                items.append({\n",
    "                    'image_link' : person.photo,\n",
    "                    'person_link' : 'https://vk.com/id' + str(person.id)\n",
    "                    })"
   ]
  },
  {
   "cell_type": "code",
   "execution_count": null,
   "metadata": {},
   "outputs": [],
   "source": [
    "len(items)"
   ]
  },
  {
   "cell_type": "code",
   "execution_count": null,
   "metadata": {},
   "outputs": [],
   "source": [
    "generate_html_people(items, 'test.html')"
   ]
  },
  {
   "cell_type": "code",
   "execution_count": null,
   "metadata": {},
   "outputs": [],
   "source": []
  }
 ],
 "metadata": {
  "kernelspec": {
   "display_name": "Python 3",
   "language": "python",
   "name": "python3"
  },
  "language_info": {
   "codemirror_mode": {
    "name": "ipython",
    "version": 3
   },
   "file_extension": ".py",
   "mimetype": "text/x-python",
   "name": "python",
   "nbconvert_exporter": "python",
   "pygments_lexer": "ipython3",
   "version": "3.7.2"
  }
 },
 "nbformat": 4,
 "nbformat_minor": 2
}
